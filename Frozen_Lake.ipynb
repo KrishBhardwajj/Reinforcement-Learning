{
 "cells": [
  {
   "cell_type": "code",
   "execution_count": 1,
   "id": "34c0f336",
   "metadata": {},
   "outputs": [],
   "source": [
    "import gym\n",
    "import numpy as np\n",
    "import random"
   ]
  },
  {
   "cell_type": "code",
   "execution_count": 2,
   "id": "8a358e9f",
   "metadata": {},
   "outputs": [],
   "source": [
    "env = gym.make('FrozenLake-v1', is_slippery=False)"
   ]
  },
  {
   "cell_type": "code",
   "execution_count": 3,
   "id": "02715e36",
   "metadata": {},
   "outputs": [],
   "source": [
    "action_space_size=env.action_space.n"
   ]
  },
  {
   "cell_type": "code",
   "execution_count": 4,
   "id": "2435d8e5",
   "metadata": {},
   "outputs": [
    {
     "data": {
      "text/plain": [
       "4"
      ]
     },
     "execution_count": 4,
     "metadata": {},
     "output_type": "execute_result"
    }
   ],
   "source": [
    "action_space"
   ]
  },
  {
   "cell_type": "code",
   "execution_count": 5,
   "id": "4ce71683",
   "metadata": {},
   "outputs": [
    {
     "data": {
      "text/plain": [
       "16"
      ]
     },
     "execution_count": 5,
     "metadata": {},
     "output_type": "execute_result"
    }
   ],
   "source": [
    "state_space_size=env.observation_space.n\n",
    "state_space_size"
   ]
  },
  {
   "cell_type": "code",
   "execution_count": 6,
   "id": "147423f6",
   "metadata": {},
   "outputs": [
    {
     "data": {
      "text/plain": [
       "array([[0., 0., 0., 0.],\n",
       "       [0., 0., 0., 0.],\n",
       "       [0., 0., 0., 0.],\n",
       "       [0., 0., 0., 0.],\n",
       "       [0., 0., 0., 0.],\n",
       "       [0., 0., 0., 0.],\n",
       "       [0., 0., 0., 0.],\n",
       "       [0., 0., 0., 0.],\n",
       "       [0., 0., 0., 0.],\n",
       "       [0., 0., 0., 0.],\n",
       "       [0., 0., 0., 0.],\n",
       "       [0., 0., 0., 0.],\n",
       "       [0., 0., 0., 0.],\n",
       "       [0., 0., 0., 0.],\n",
       "       [0., 0., 0., 0.],\n",
       "       [0., 0., 0., 0.]])"
      ]
     },
     "execution_count": 6,
     "metadata": {},
     "output_type": "execute_result"
    }
   ],
   "source": [
    "qtable=np.zeros((state_space_size, action_space_size))\n",
    "qtable"
   ]
  },
  {
   "cell_type": "code",
   "execution_count": 7,
   "id": "1d1396e6",
   "metadata": {},
   "outputs": [
    {
     "name": "stderr",
     "output_type": "stream",
     "text": [
      "C:\\Users\\KRISH BHARDWAJ\\AppData\\Local\\Programs\\Python\\Python311\\Lib\\site-packages\\gym\\utils\\passive_env_checker.py:233: DeprecationWarning: `np.bool8` is a deprecated alias for `np.bool_`.  (Deprecated NumPy 1.24)\n",
      "  if not isinstance(terminated, (bool, np.bool8)):\n"
     ]
    },
    {
     "ename": "ValueError",
     "evalue": "too many values to unpack (expected 4)",
     "output_type": "error",
     "traceback": [
      "\u001b[1;31m---------------------------------------------------------------------------\u001b[0m",
      "\u001b[1;31mValueError\u001b[0m                                Traceback (most recent call last)",
      "Cell \u001b[1;32mIn[7], line 25\u001b[0m\n\u001b[0;32m     22\u001b[0m \u001b[38;5;28;01melse\u001b[39;00m:\n\u001b[0;32m     23\u001b[0m   action\u001b[38;5;241m=\u001b[39menv\u001b[38;5;241m.\u001b[39maction_space\u001b[38;5;241m.\u001b[39msample() \u001b[38;5;66;03m# Exploration\u001b[39;00m\n\u001b[1;32m---> 25\u001b[0m new_state, reward, done, info \u001b[38;5;241m=\u001b[39menv\u001b[38;5;241m.\u001b[39mstep(action)\n\u001b[0;32m     26\u001b[0m max_new_state\u001b[38;5;241m=\u001b[39mnp\u001b[38;5;241m.\u001b[39mmax(qtable[new_state,:])\n\u001b[0;32m     27\u001b[0m qtable[state,action] \u001b[38;5;241m=\u001b[39m qtable[state,action] \u001b[38;5;241m+\u001b[39m learning_rate\u001b[38;5;241m*\u001b[39m(reward\u001b[38;5;241m+\u001b[39mgamma\u001b[38;5;241m*\u001b[39mmax_new_state\u001b[38;5;241m-\u001b[39mqtable[state,action])\n",
      "\u001b[1;31mValueError\u001b[0m: too many values to unpack (expected 4)"
     ]
    }
   ],
   "source": [
    "total_episodes=10000\n",
    "learning_rate=0.2\n",
    "max_steps=100\n",
    "gamma=0.99\n",
    "\n",
    "epsilon=1\n",
    "max_epsilon=1\n",
    "min_epsilon=.01\n",
    "decay_rate=0.001\n",
    "\n",
    "\n",
    "rewards=[]\n",
    "for episode in range(total_episodes):\n",
    "  state=env.reset()\n",
    "  step=0\n",
    "  done=False\n",
    "  total_rewards=0\n",
    "\n",
    "  for step in range(max_steps):\n",
    "    if random.uniform(0,1)>epsilon:\n",
    "      action=np.argmax(qtable[state,:]) #exploitation\n",
    "    else:\n",
    "      action=env.action_space.sample() # Exploration\n",
    "\n",
    "    new_state, reward, done, info =env.step(action)\n",
    "    max_new_state=np.max(qtable[new_state,:])\n",
    "    qtable[state,action] = qtable[state,action] + learning_rate*(reward+gamma*max_new_state-qtable[state,action])\n",
    "\n",
    "    total_rewards+= reward\n",
    "    state= new_state\n",
    "\n",
    "    if done:\n",
    "      break\n",
    "\n",
    "  epsilon = min_epsilon + (max_epsilon - min_epsilon)*np.exp(-decay_rate*episode)\n",
    "  rewards.append(total_rewards)\n",
    "    \n",
    "print (\"Score:\", str(sum(rewards)/total_episodes))"
   ]
  },
  {
   "cell_type": "code",
   "execution_count": null,
   "id": "93b2f0b3",
   "metadata": {},
   "outputs": [],
   "source": [
    "\n"
   ]
  },
  {
   "cell_type": "code",
   "execution_count": null,
   "id": "7b1de4e8",
   "metadata": {},
   "outputs": [],
   "source": []
  }
 ],
 "metadata": {
  "kernelspec": {
   "display_name": "Python 3 (ipykernel)",
   "language": "python",
   "name": "python3"
  },
  "language_info": {
   "codemirror_mode": {
    "name": "ipython",
    "version": 3
   },
   "file_extension": ".py",
   "mimetype": "text/x-python",
   "name": "python",
   "nbconvert_exporter": "python",
   "pygments_lexer": "ipython3",
   "version": "3.11.1"
  }
 },
 "nbformat": 4,
 "nbformat_minor": 5
}
